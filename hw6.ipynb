{
 "cells": [
  {
   "cell_type": "code",
   "execution_count": 556,
   "metadata": {},
   "outputs": [],
   "source": [
    "from nltk import word_tokenize, RegexpTokenizer, download\n",
    "\n",
    "from nltk.util import pad_sequence\n",
    "from nltk.util import bigrams\n",
    "from nltk.util import ngrams\n",
    "from nltk.util import everygrams\n",
    "\n",
    "from nltk.lm import MLE\n",
    "from nltk.lm.preprocessing import pad_both_ends\n",
    "from nltk.lm.preprocessing import flatten\n",
    "from nltk.lm.preprocessing import padded_everygram_pipeline\n",
    "\n",
    "from nltk.tokenize.treebank import TreebankWordDetokenizer\n",
    "\n",
    "from numpy import array, savetxt\n",
    "\n",
    "from csv import writer\n",
    "\n",
    "import pandas as pd\n",
    "\n",
    "Sentiment = 0|1"
   ]
  },
  {
   "cell_type": "code",
   "execution_count": 557,
   "metadata": {},
   "outputs": [],
   "source": [
    "def insert_dict( x: str, d: dict, s: Sentiment ):\n",
    "    d[x][s] = d.get(x)[s]+1\n",
    "\n",
    "def init_dict( x: str, d: dict ):\n",
    "    d[x] = {0: 0, 1: 0}"
   ]
  },
  {
   "cell_type": "code",
   "execution_count": 558,
   "metadata": {},
   "outputs": [],
   "source": [
    "train_df = pd.read_csv(\"./files/train.csv\", names=['text', 'sentiment'])\n",
    "c_prior = train_df['sentiment'].value_counts()\n",
    "p_prior = c_prior/(c_prior[0] + c_prior[1])\n",
    "\n",
    "tokenizer = RegexpTokenizer(r'\\w+')\n",
    "train_df['tok_text'] = train_df.apply(lambda row: tokenizer.tokenize(row['text'].lower()), axis=1)"
   ]
  },
  {
   "cell_type": "code",
   "execution_count": 559,
   "metadata": {},
   "outputs": [],
   "source": [
    "p_prior = p_prior.rename({0: 'negative', 1: 'positive'})"
   ]
  },
  {
   "cell_type": "code",
   "execution_count": 560,
   "metadata": {},
   "outputs": [],
   "source": [
    "p_prior = list(zip(p_prior.index, p_prior))"
   ]
  },
  {
   "cell_type": "code",
   "execution_count": 561,
   "metadata": {},
   "outputs": [],
   "source": [
    "def mk_train_vocab(df):\n",
    "    wc_pos = 0\n",
    "    wc_neg = 0\n",
    "    df_neg = df[df['sentiment'] == 0]\n",
    "    df_pos = df[df['sentiment'] == 1]\n",
    "    vocab = {}\n",
    "    for p in df['tok_text']:\n",
    "        for q in p:\n",
    "            init_dict(q, vocab)\n",
    "    for p in df_neg['tok_text']:\n",
    "        for q in p:\n",
    "            insert_dict(q, vocab, 0)\n",
    "            wc_neg += 1\n",
    "    for p in df_pos['tok_text']:\n",
    "        for q in p:\n",
    "            insert_dict(q, vocab, 1)\n",
    "            wc_pos += 1\n",
    "    return vocab, wc_pos, wc_neg\n",
    "    \n",
    "vocab, wc_pos, wc_neg = mk_train_vocab(train_df)"
   ]
  },
  {
   "cell_type": "code",
   "execution_count": 562,
   "metadata": {},
   "outputs": [],
   "source": [
    "from math import log\n",
    "\n",
    "pos_array = []\n",
    "neg_array = []\n",
    "for word in vocab:\n",
    "    pos_array.append([word, 'positive', (vocab.get(word)[1]+1)/(wc_pos+len(vocab))])\n",
    "    neg_array.append([word, 'negative', (vocab.get(word)[0]+1)/(wc_neg+len(vocab))])\n",
    "maxp = ['', '', 0]\n",
    "minp = ['', '', 1]"
   ]
  },
  {
   "cell_type": "code",
   "execution_count": 563,
   "metadata": {},
   "outputs": [],
   "source": [
    "log_p_prior = list(map(lambda x: [x[0], log(x[1])], p_prior))\n",
    "logneg_array = list(map(lambda x: [x[0], x[1], log(x[2])],neg_array))\n",
    "logpos_array = list(map(lambda x: [x[0], x[1], log(x[2])],pos_array))"
   ]
  },
  {
   "cell_type": "code",
   "execution_count": 564,
   "metadata": {},
   "outputs": [],
   "source": [
    "from os import remove, path\n",
    "\n",
    "filename = 'model.csv'\n",
    "\n",
    "if path.exists(filename):\n",
    "    remove(filename)\n",
    "\n",
    "with open(filename, 'a') as f:\n",
    "    wr = writer(f, delimiter=',')\n",
    "    f.write('PP\\n')\n",
    "    wr.writerows(log_p_prior)\n",
    "    f.write('\\nLP\\n')\n",
    "    wr.writerows(logneg_array)\n",
    "    wr.writerows(logpos_array)"
   ]
  },
  {
   "cell_type": "code",
   "execution_count": 565,
   "metadata": {},
   "outputs": [],
   "source": [
    "p_df = pd.read_csv(filename, skiprows=0, nrows=2)\n",
    "c_df = pd.read_csv(filename, skiprows=4)\n",
    "p_df = p_df.rename(index={0: 'negative', 1: 'positive'}, columns={'PP': 'probability'})\n",
    "c_df = c_df.rename(columns={'LP': 'probability'})"
   ]
  },
  {
   "cell_type": "code",
   "execution_count": 568,
   "metadata": {},
   "outputs": [],
   "source": [
    "def cl_probability( vocab: dict, cl: str, p_model: pd.DataFrame, c_model: pd.DataFrame ):\n",
    "    prob = [p_model.loc[cl, 'probability']]\n",
    "    for word in vocab:\n",
    "        prob.append(c_model.loc[(word, cl), 'probability'] * vocab[word])\n",
    "    return sum(prob)"
   ]
  },
  {
   "cell_type": "code",
   "execution_count": 569,
   "metadata": {},
   "outputs": [],
   "source": [
    "def classify( text: str, p_model: pd.DataFrame, c_model: pd.DataFrame ):\n",
    "    tokenizer = RegexpTokenizer(r'\\w+')\n",
    "    t_arr = tokenizer.tokenize(text.lower())\n",
    "    cni_df = c_df.reset_index()\n",
    "    vocab = {}\n",
    "    for word in t_arr:\n",
    "        if word not in cni_df.loc[:, 'level_0'].values:\n",
    "            continue\n",
    "        if word in vocab.keys():\n",
    "            vocab[word] = vocab.get(word) + 1\n",
    "        else:\n",
    "            vocab[word] = 1\n",
    "\n",
    "    p_neg = cl_probability( vocab, 'negative', p_model, c_model)\n",
    "    p_pos = cl_probability( vocab, 'positive', p_model, c_model)\n",
    "    return 1 if p_neg < p_pos else 0"
   ]
  },
  {
   "cell_type": "code",
   "execution_count": 570,
   "metadata": {},
   "outputs": [],
   "source": [
    "test_df = pd.read_csv(\"./files/test.csv\", names=['text', 'sentiment'])\n",
    "\n",
    "predict = []\n",
    "for text in test_df['text']:\n",
    "    predict.append(classify( text, p_df, c_df ))\n",
    "\n",
    "test_df['prediction'] = predict"
   ]
  },
  {
   "cell_type": "code",
   "execution_count": 571,
   "metadata": {},
   "outputs": [],
   "source": [
    "test_df['sentiment'] = test_df.apply(lambda row: 'positive' if row['sentiment'] == 1 else 'negative', axis=1)\n",
    "test_df['prediction'] = test_df.apply(lambda row: 'positive' if row['prediction'] == 1 else 'negative', axis=1)"
   ]
  },
  {
   "cell_type": "code",
   "execution_count": 572,
   "metadata": {},
   "outputs": [
    {
     "data": {
      "text/html": [
       "<div>\n",
       "<style scoped>\n",
       "    .dataframe tbody tr th:only-of-type {\n",
       "        vertical-align: middle;\n",
       "    }\n",
       "\n",
       "    .dataframe tbody tr th {\n",
       "        vertical-align: top;\n",
       "    }\n",
       "\n",
       "    .dataframe thead th {\n",
       "        text-align: right;\n",
       "    }\n",
       "</style>\n",
       "<table border=\"1\" class=\"dataframe\">\n",
       "  <thead>\n",
       "    <tr style=\"text-align: right;\">\n",
       "      <th></th>\n",
       "      <th>text</th>\n",
       "      <th>actual</th>\n",
       "      <th>prediction</th>\n",
       "    </tr>\n",
       "  </thead>\n",
       "  <tbody>\n",
       "    <tr>\n",
       "      <th>0</th>\n",
       "      <td>Server did a great job handling our large rowd...</td>\n",
       "      <td>positive</td>\n",
       "      <td>positive</td>\n",
       "    </tr>\n",
       "    <tr>\n",
       "      <th>1</th>\n",
       "      <td>Would come back again if I had a sushi craving...</td>\n",
       "      <td>positive</td>\n",
       "      <td>negative</td>\n",
       "    </tr>\n",
       "    <tr>\n",
       "      <th>2</th>\n",
       "      <td>He deserves 5 stars.</td>\n",
       "      <td>positive</td>\n",
       "      <td>positive</td>\n",
       "    </tr>\n",
       "    <tr>\n",
       "      <th>3</th>\n",
       "      <td>My boyfriend and I came here for the first tim...</td>\n",
       "      <td>positive</td>\n",
       "      <td>positive</td>\n",
       "    </tr>\n",
       "    <tr>\n",
       "      <th>4</th>\n",
       "      <td>They have great dinners.</td>\n",
       "      <td>positive</td>\n",
       "      <td>positive</td>\n",
       "    </tr>\n",
       "    <tr>\n",
       "      <th>5</th>\n",
       "      <td>Not my thing.</td>\n",
       "      <td>negative</td>\n",
       "      <td>negative</td>\n",
       "    </tr>\n",
       "    <tr>\n",
       "      <th>6</th>\n",
       "      <td>If you are reading this please don't go there.</td>\n",
       "      <td>negative</td>\n",
       "      <td>negative</td>\n",
       "    </tr>\n",
       "    <tr>\n",
       "      <th>7</th>\n",
       "      <td>Tonight I had the Elk Filet special...and it s...</td>\n",
       "      <td>negative</td>\n",
       "      <td>negative</td>\n",
       "    </tr>\n",
       "    <tr>\n",
       "      <th>8</th>\n",
       "      <td>We ordered some old classics and some new dish...</td>\n",
       "      <td>negative</td>\n",
       "      <td>positive</td>\n",
       "    </tr>\n",
       "    <tr>\n",
       "      <th>9</th>\n",
       "      <td>A FLY was in my apple juice.. A FLY!!!!!!!!</td>\n",
       "      <td>negative</td>\n",
       "      <td>negative</td>\n",
       "    </tr>\n",
       "  </tbody>\n",
       "</table>\n",
       "</div>"
      ],
      "text/plain": [
       "                                                text    actual prediction\n",
       "0  Server did a great job handling our large rowd...  positive   positive\n",
       "1  Would come back again if I had a sushi craving...  positive   negative\n",
       "2                               He deserves 5 stars.  positive   positive\n",
       "3  My boyfriend and I came here for the first tim...  positive   positive\n",
       "4                           They have great dinners.  positive   positive\n",
       "5                                      Not my thing.  negative   negative\n",
       "6     If you are reading this please don't go there.  negative   negative\n",
       "7  Tonight I had the Elk Filet special...and it s...  negative   negative\n",
       "8  We ordered some old classics and some new dish...  negative   positive\n",
       "9        A FLY was in my apple juice.. A FLY!!!!!!!!  negative   negative"
      ]
     },
     "execution_count": 572,
     "metadata": {},
     "output_type": "execute_result"
    }
   ],
   "source": [
    "test_df = test_df.rename(columns={'sentiment': 'actual'})\n",
    "test_df.to_csv('test_predictions.csv')\n",
    "test_df"
   ]
  }
 ],
 "metadata": {
  "kernelspec": {
   "display_name": "Python 3.10.4 ('csc620')",
   "language": "python",
   "name": "python3"
  },
  "language_info": {
   "codemirror_mode": {
    "name": "ipython",
    "version": 3
   },
   "file_extension": ".py",
   "mimetype": "text/x-python",
   "name": "python",
   "nbconvert_exporter": "python",
   "pygments_lexer": "ipython3",
   "version": "3.10.4"
  },
  "orig_nbformat": 4,
  "vscode": {
   "interpreter": {
    "hash": "a71d39d660cde086a1906713d7782789105334eb77ec37352255bdee7f037f90"
   }
  }
 },
 "nbformat": 4,
 "nbformat_minor": 2
}
