{
 "cells": [
  {
   "cell_type": "markdown",
   "metadata": {},
   "source": [
    "# CSC 620 - HW #14\n",
    "\n",
    "[How to Get Started with Deep Learning for Natural Language Processing](https://machinelearningmastery.com/crash-course-deep-learning-natural-language-processing/)"
   ]
  },
  {
   "cell_type": "markdown",
   "metadata": {},
   "source": [
    "## Lesson 1 - Deep Learning and Natural Language\n",
    "\n",
    "For this lesson you must research and list 10 impressive applications of deep\n",
    "learning methods in the field of natural language processing.\n",
    "\n",
    "1. [Qualifying Certainty in Radiology Reports through Deep Learning–Based Natural\n",
    "   Language\n",
    "   Processing](https://www-ncbi-nlm-nih-gov.jpllnet.sfsu.edu/pmc/articles/PMC8562739/)\n",
    "2. [A natural language processing and deep learning approach to identify child\n",
    "   abuse from pediatric electronic medical\n",
    "   records](https://www.ncbi.nlm.nih.gov/pmc/articles/PMC7909689/)\n",
    "3. [Deep Learning Natural Language Processing Successfully Predicts the\n",
    "   Cerebrovascular Cause of Transient Ischemic Attack-Like Presentations](https://www.ahajournals.org/doi/pdf/10.1161/STROKEAHA.118.024124)\n",
    "4. [Dynamic sign language translating system using deep learning and natural\n",
    "   language\n",
    "   processing](https://www.proquest.com/docview/2623612530?pq-origsite=primo)\n",
    "5. [NATURALPROOFS: Mathematical Theorem Proving in Natural\n",
    "   Language](https://arxiv.org/pdf/2104.01112.pdf)\n",
    "6. [Explaining neural activity in human listeners with deep learning via natural\n",
    "   language processing of narrative\n",
    "   text](https://www.ncbi.nlm.nih.gov/pmc/articles/PMC9596412/)\n",
    "7. [Identifying disaster-related tweets and their semantic, spatial andtemporal\n",
    "   context using deep learning, natural languageprocessing and spatial analysis:\n",
    "   a case study of Hurricane\n",
    "   Irma](https://www.tandfonline.com/doi/epdf/10.1080/17538947.2018.1563219)\n",
    "8. [Deep Learning-Based Natural Language Processing for Screening Psychiatric\n",
    "   Patients](https://www.ncbi.nlm.nih.gov/pmc/articles/PMC7874001/)\n",
    "9. [A natural language processing approach based on embedding deep learning from\n",
    "   heterogeneous compounds for quantitative structure–activity relationship\n",
    "   modeling](https://onlinelibrary.wiley.com/doi/10.1111/cbdd.13742)\n",
    "10. [Classifying social determinants of health from unstructured electronic health records using deep learning-based natural language processing](https://www.sciencedirect.com/science/article/abs/pii/S1532046421003130?via%3Dihub)\n"
   ]
  },
  {
   "cell_type": "markdown",
   "metadata": {},
   "source": [
    "## Lesson 2 - Cleaning Text Data\n",
    "\n",
    "Your task is to locate a free classical book on the Project Gutenberg website, download the ASCII version of the book and tokenize the text and save the result to a new file."
   ]
  },
  {
   "cell_type": "code",
   "execution_count": 11,
   "metadata": {},
   "outputs": [],
   "source": [
    "import nltk\n",
    "\n",
    "with open(\"ArtOfWar.txt\", 'rt') as f:\n",
    "  text = f.read()\n",
    "\n",
    "manualTokenized = text.lower().split()\n",
    "\n",
    "nltkTokenized = nltk.word_tokenize(text)"
   ]
  },
  {
   "cell_type": "markdown",
   "metadata": {},
   "source": [
    "## Lesson 3 - Bag-of-Words Model"
   ]
  },
  {
   "cell_type": "code",
   "execution_count": null,
   "metadata": {},
   "outputs": [],
   "source": []
  }
 ],
 "metadata": {
  "kernelspec": {
   "display_name": "Python 3.10.5 ('csc620')",
   "language": "python",
   "name": "python3"
  },
  "language_info": {
   "codemirror_mode": {
    "name": "ipython",
    "version": 3
   },
   "file_extension": ".py",
   "mimetype": "text/x-python",
   "name": "python",
   "nbconvert_exporter": "python",
   "pygments_lexer": "ipython3",
   "version": "3.10.5"
  },
  "orig_nbformat": 4,
  "vscode": {
   "interpreter": {
    "hash": "a71d39d660cde086a1906713d7782789105334eb77ec37352255bdee7f037f90"
   }
  }
 },
 "nbformat": 4,
 "nbformat_minor": 2
}
